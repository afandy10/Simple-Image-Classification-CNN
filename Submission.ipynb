{
  "nbformat": 4,
  "nbformat_minor": 0,
  "metadata": {
    "colab": {
      "name": "Submission ",
      "provenance": [],
      "collapsed_sections": []
    },
    "kernelspec": {
      "name": "python3",
      "display_name": "Python 3"
    },
    "accelerator": "GPU"
  },
  "cells": [
    {
      "cell_type": "markdown",
      "metadata": {
        "id": "ggVPBVJMuA3b"
      },
      "source": [
        "> # <b>Data Diri</b>\n",
        "  - Nama : Achmad Afandy\n",
        "  - Email : achmadafandy74@gmail.com\n",
        "\n"
      ]
    },
    {
      "cell_type": "code",
      "metadata": {
        "id": "IlwKn_GzsjqN"
      },
      "source": [
        "import tensorflow as tf\n",
        "from tensorflow.keras.optimizers import RMSprop\n",
        "from tensorflow.keras.preprocessing.image import ImageDataGenerator\n",
        "from keras.preprocessing import image\n",
        "from keras.callbacks import ModelCheckpoint\n",
        "from keras.callbacks import EarlyStopping \n",
        "from keras.callbacks import LearningRateScheduler\n",
        "from keras.callbacks import ReduceLROnPlateau\n",
        "from google.colab import files\n",
        "import time\n",
        "import numpy as np\n",
        "%matplotlib inline\n",
        "import os,glob\n",
        "import matplotlib.image as mpimg \n",
        "import matplotlib.pyplot as plt \n",
        "\n"
      ],
      "execution_count": 30,
      "outputs": []
    },
    {
      "cell_type": "code",
      "metadata": {
        "id": "P1hz1CLMvUQC",
        "outputId": "9503c796-32a3-4c28-99dd-d9e39cf69675",
        "colab": {
          "base_uri": "https://localhost:8080/"
        }
      },
      "source": [
        "!wget --no-check-certificate \\\n",
        "  https://dicodingacademy.blob.core.windows.net/picodiploma/ml_pemula_academy/rockpaperscissors.zip \\\n",
        "  -O /tmp/rockpaperscissors.zip"
      ],
      "execution_count": 9,
      "outputs": [
        {
          "output_type": "stream",
          "text": [
            "--2020-11-09 13:00:15--  https://dicodingacademy.blob.core.windows.net/picodiploma/ml_pemula_academy/rockpaperscissors.zip\n",
            "Resolving dicodingacademy.blob.core.windows.net (dicodingacademy.blob.core.windows.net)... 52.239.197.36\n",
            "Connecting to dicodingacademy.blob.core.windows.net (dicodingacademy.blob.core.windows.net)|52.239.197.36|:443... connected.\n",
            "HTTP request sent, awaiting response... 200 OK\n",
            "Length: 322873683 (308M) [application/zip]\n",
            "Saving to: ‘/tmp/rockpaperscissors.zip’\n",
            "\n",
            "/tmp/rockpapersciss 100%[===================>] 307.92M  32.3MB/s    in 10s     \n",
            "\n",
            "2020-11-09 13:00:26 (30.2 MB/s) - ‘/tmp/rockpaperscissors.zip’ saved [322873683/322873683]\n",
            "\n"
          ],
          "name": "stdout"
        }
      ]
    },
    {
      "cell_type": "code",
      "metadata": {
        "id": "ak8TrcUUEux5"
      },
      "source": [
        "# ekstraksi zipfile\n",
        "import zipfile, os, urllib\n",
        "local_zipfile = '/tmp/rockpaperscissors.zip'\n",
        "zip_readfile = zipfile.ZipFile(local_zipfile, 'r')\n",
        "zip_readfile.extractall('/tmp')\n",
        "zip_readfile.close()"
      ],
      "execution_count": 10,
      "outputs": []
    },
    {
      "cell_type": "code",
      "metadata": {
        "id": "y59CgZ86GNHx",
        "outputId": "4f50e78a-7adf-4cc8-8a55-c5eb3fec22a2",
        "colab": {
          "base_uri": "https://localhost:8080/"
        }
      },
      "source": [
        "os.listdir('/tmp/rockpaperscissors/')"
      ],
      "execution_count": 11,
      "outputs": [
        {
          "output_type": "execute_result",
          "data": {
            "text/plain": [
              "['scissors', 'rock', 'README_rpc-cv-images.txt', 'paper', 'rps-cv-images']"
            ]
          },
          "metadata": {
            "tags": []
          },
          "execution_count": 11
        }
      ]
    },
    {
      "cell_type": "markdown",
      "metadata": {
        "id": "QqSCxwg2dQ2O"
      },
      "source": [
        ""
      ]
    },
    {
      "cell_type": "code",
      "metadata": {
        "id": "kC4EDo5abH0h",
        "outputId": "47385e37-3a4a-400a-9d3b-6e71444afbb7",
        "colab": {
          "base_uri": "https://localhost:8080/"
        }
      },
      "source": [
        "fileObject = open('/tmp/rockpaperscissors/README_rpc-cv-images.txt', \"r\")\n",
        "data = fileObject.read()\n",
        "print(data)"
      ],
      "execution_count": 12,
      "outputs": [
        {
          "output_type": "stream",
          "text": [
            "AUTHOR: Julien de la Bruère-Terreault (drgfreeman@tuta.io)\n",
            "\n",
            "LICENSE: CC-BY-SA 4.0\n",
            "\n",
            "DESCRIPTION: This dataset contains images of hand gestures from the Rock-Paper-Scissors game. The images were captured as part of a hobby project where I developped a Rock-Paper-Scissors game using computer vision and machine learning on the Raspberry Pi (https://github.com/DrGFreeman/rps-cv)\n",
            "\n",
            "CONTENTS: The dataset contains a total of 2188 images corresponding to the 'Rock' (726 images), 'Paper' (710 images) and 'Scissors' (752 images) hand gestures of the Rock-Paper-Scissors game. All image are taken on a green background with relatively consistent ligithing and white balance.\n",
            "\n",
            "FORMAT: All images are RGB images of 300 pixels wide by 200 pixels high in .png format. The images are separated in three sub-folders named 'rock', 'paper' and 'scissors' according to their respective class.\n",
            "\n",
            "\n"
          ],
          "name": "stdout"
        }
      ]
    },
    {
      "cell_type": "code",
      "metadata": {
        "id": "MewpRnPjFthw",
        "outputId": "8c46fb35-4039-4044-ddc0-76e2dbc8e1e2",
        "colab": {
          "base_uri": "https://localhost:8080/"
        }
      },
      "source": [
        "os.listdir('/tmp/rockpaperscissors/rps-cv-images/rock')"
      ],
      "execution_count": 13,
      "outputs": [
        {
          "output_type": "execute_result",
          "data": {
            "text/plain": [
              "['545XFudcV0UlnH2Y.png',\n",
              " 'BsWasfK2PdoRNEDw.png',\n",
              " 'KKYleXVUgi0h0np4.png',\n",
              " 'poJARbX3gvvFDPXQ.png',\n",
              " 'O0YV4V0z2pe4kxwx.png',\n",
              " 'OavUnCwAEACzIK0A.png',\n",
              " 'qYTvWILCYIauIMkW.png',\n",
              " 'MReo7XBz7dmQ5HdE.png',\n",
              " 'FPa2M1e589cxIyfR.png',\n",
              " 'NpJEIrbBZBhud8tg.png',\n",
              " 'LF4yf48q3qRLLZNS.png',\n",
              " 'FF2mNwRujDxzozUQ.png',\n",
              " 'NzQfD5IzPphBZNKi.png',\n",
              " 'wcL0C9QgqDYxaj3W.png',\n",
              " '3MSy75FXVzhhLg77.png',\n",
              " 'Zyzp7nBCojgQeCZs.png',\n",
              " '5SeLlZliRJtZAnIZ.png',\n",
              " 'YmNXS0VhjQjldK3P.png',\n",
              " 'tMiH4tj8YffHNl0O.png',\n",
              " 'BTcHjuerLAYWzx8S.png',\n",
              " 'WRIlJop0nm7zZfg3.png',\n",
              " 'l0rOvSD1UwFg1Xv2.png',\n",
              " 'No7Qf3DONPRwor5U.png',\n",
              " 'lcZcrpCoDl7Y1AUF.png',\n",
              " '1MOm36DHK0R8OfIC.png',\n",
              " 'QdUOXLvrrFZbV5G6.png',\n",
              " 'OCa85cn2JdZzOe8c.png',\n",
              " 'JOaPrPIINVvoI9l4.png',\n",
              " 'vL6UMd1OOIGuEdFu.png',\n",
              " 'yQIWMi6PpMKRMZaa.png',\n",
              " 'qUjyvBdP04lUmBkl.png',\n",
              " '8vkvSVmLwxY1SH3p.png',\n",
              " '9TeUwuSOgtGgewNL.png',\n",
              " 'hMqKoUYAvB91YRuO.png',\n",
              " 'QM8un28uGzplAkrb.png',\n",
              " 'sKD8rWd2xMuZQl49.png',\n",
              " '3k7WrSAInCaatFtl.png',\n",
              " '2O9XPBJRT119drWX.png',\n",
              " 'Jg78GVOKbbyQchWq.png',\n",
              " 'zrrYLvM2uywyFwRy.png',\n",
              " 'rit0UhP5HizIFoJA.png',\n",
              " 'qKPJSQplDj0grFPp.png',\n",
              " 'ktvHAgLHY7YAY1Af.png',\n",
              " 'OYgsl2meK8nj0c8l.png',\n",
              " 'kVwUUOjOc6VtZVMt.png',\n",
              " 'ADOiIs56eyYsunID.png',\n",
              " 'brPQ0E5Gk9L0FHey.png',\n",
              " 'RkKc61MLjm4clTPg.png',\n",
              " 'glL1mPYeHM552bV4.png',\n",
              " 'N3Qml9f8reG31r5b.png',\n",
              " 'E5mlbTDFPHA7QX9U.png',\n",
              " '5QHZzfwp2xJXckQb.png',\n",
              " 'rrf0pB5CgUgAmucg.png',\n",
              " 'qzCqZEUXcEqAuZAO.png',\n",
              " 'Q7dUVly6sK3jyeMM.png',\n",
              " 'wweMJiVO1CgNIGHW.png',\n",
              " 'NND8kMRxPKa3HfWX.png',\n",
              " '3wrX8EawcOolzrAY.png',\n",
              " 'HTlhfHf6CMkGBrlh.png',\n",
              " 'INutMuoFBgugllQm.png',\n",
              " 'JxhewAxaOg3wB1gA.png',\n",
              " 'GQjExZ14HfbKjnEp.png',\n",
              " 'HptkIYoVoE2yV9Yk.png',\n",
              " 'iYSPVRaZyIwKTrot.png',\n",
              " 'CZMVXF6ReNFTmQu3.png',\n",
              " 'wjljU5HhXhirxPZ3.png',\n",
              " 'XRzyLHESg63okg01.png',\n",
              " 'FOmEbxM5mn9WC2sT.png',\n",
              " 'PFyOS0TL9gRsnYi8.png',\n",
              " 'XLXLcpDFWHNVkYQ6.png',\n",
              " 'd9UIt2WF1O9DYHPA.png',\n",
              " 'yLeWjzIsAgQO8rT2.png',\n",
              " 'Mwr4GgRRk6BgHDVL.png',\n",
              " 'PHtj2zrPulp3AIKv.png',\n",
              " 'VkRNUIG8Q54sx8r4.png',\n",
              " '0P6uxM8Vr1DwySHe.png',\n",
              " 'IIRbCSbDRuQjm456.png',\n",
              " '81eTWj04M9fRjy51.png',\n",
              " 'R5gwWLVoqodxD3Q8.png',\n",
              " 'Rc1dJyDnXnSjnpoH.png',\n",
              " '3XqpRCrIK65ostOr.png',\n",
              " 'qMWVb6BibNukvVrj.png',\n",
              " 'muKpkJF3C3j0TmAN.png',\n",
              " 'vhpXMTOidZb7yqb8.png',\n",
              " 'jpuIILjefqjHtUtk.png',\n",
              " 'HAz9geTMx5aynaaE.png',\n",
              " 'so3Om75mBnUfBdTe.png',\n",
              " 'JXD8WyY4cQoEyvtU.png',\n",
              " 'xPuMzxjXPJpLuCsl.png',\n",
              " '9a9TiJDB5oAWqO9U.png',\n",
              " 'Mc1ESNeg86L6CLRe.png',\n",
              " 'zihL322yBqQvYvhE.png',\n",
              " 'Bm9hYmhGUGmKxDwK.png',\n",
              " 'qT0oCJChnoVWNqC1.png',\n",
              " 'hqD5rX5jXifrtMJO.png',\n",
              " 'fsN97zyPFSfYwnsS.png',\n",
              " 'PXIxKdf4DvyHXy89.png',\n",
              " 'dxfucopsE3UFuH28.png',\n",
              " 'VxODCZVhiNVfWsLj.png',\n",
              " 'n3ryKsLTPcGhpW6S.png',\n",
              " '5yHTRIIDcdrXqMYJ.png',\n",
              " 'LHgGYA3vlHkUXzID.png',\n",
              " 'boppgwG3Rz1zqCNK.png',\n",
              " 'HLf2liRRQ2FM3PWB.png',\n",
              " 'I1T89xw2qr4aTrzq.png',\n",
              " '4yPN1zUFqW6ROTgq.png',\n",
              " 'GsInYLhWgEFn0geb.png',\n",
              " '4vXhIZv7KkPhyfX9.png',\n",
              " 'StZmJNdxOScdAqF0.png',\n",
              " 'r0xQoW6iQbPig3jf.png',\n",
              " '2f25VA1nfxiC86xj.png',\n",
              " 'aB0M38mmr711uzAY.png',\n",
              " 'tErKQ83tdngWfp23.png',\n",
              " '2j9iOcnxJzcyaFB5.png',\n",
              " 'UOBPeuMnZRb6Ycug.png',\n",
              " '1VoYiUgPE6h45MLu.png',\n",
              " 'yxZyXGFCtnDwavIo.png',\n",
              " 'x6RZUj3vDGq0u806.png',\n",
              " 'rHHsm5b1CvmcWT57.png',\n",
              " 'lOCJEdb3BZAfi6Fg.png',\n",
              " 'FQKAKSGEI0OuRQhh.png',\n",
              " 'qTswJhA6jQYT4y3b.png',\n",
              " 'DXlFk9LGWpbBewq2.png',\n",
              " 'ZM4bG569OHTj1XMT.png',\n",
              " 'dD2TpDGv5gsYUJAl.png',\n",
              " 'lJTADoCRRndhoR4k.png',\n",
              " 'CpWDLKaUbf6poyIj.png',\n",
              " '85dWwzSo83sQnsoh.png',\n",
              " 'rGh56uZVxk2MZLWF.png',\n",
              " 'NjO1nKIuSLnWpnK0.png',\n",
              " '6TEsyzE1MEK6Xg31.png',\n",
              " 'QzJOhsnnTjhfspc0.png',\n",
              " 'QO4ebj2KlmPIU1Eo.png',\n",
              " 'AfK6szcUXW6HDlxI.png',\n",
              " 'xc9iqz3P8tF5YdCG.png',\n",
              " 'rMViRrOZTOK1XiEw.png',\n",
              " 'Zz52yCODsLplv7rK.png',\n",
              " 'BRCnAE1A7rvm7o8V.png',\n",
              " 'G1MuiTHGqQ6CN122.png',\n",
              " 'iCLIvwweBESAwx4z.png',\n",
              " '9Xi2VuW7sti2BV2H.png',\n",
              " 'WoSeauZwsvZTvL5B.png',\n",
              " '2JRYQXb5kmlhgD5i.png',\n",
              " 'qJ0P3RNZJ1dL3lzS.png',\n",
              " 'YipqelrMu7Sd6whV.png',\n",
              " 'EvmNpXcSU8y41PXX.png',\n",
              " 'UjbgpVjrwzH0XvuD.png',\n",
              " 'MMeqszriRcb0Ljc6.png',\n",
              " 'ktot0Gt2YvkPXl1X.png',\n",
              " 'YIHmMbsN487PuNaH.png',\n",
              " 'Bvw2wNs7Vb4H5nx9.png',\n",
              " '337ARHTZmhCSkoEM.png',\n",
              " '2nSUlcvPf1DOCo1j.png',\n",
              " 'nb1DEYJBoJTVwG4K.png',\n",
              " 'i1GxDtZ5awTW7Rsf.png',\n",
              " 'kcZfTQqKr8VaSjhk.png',\n",
              " '7xID6kq32pdkEBIe.png',\n",
              " 'CkjdMgxvvA6Ll8Ca.png',\n",
              " '9kYPKMVtd4nOvSK4.png',\n",
              " 'EvpZ7BPu3bibrvM2.png',\n",
              " 'bC7OWmNYjZLjLYnd.png',\n",
              " '9j89H6omx9ieI8sf.png',\n",
              " 'Qs7kzLICH4ZpdyPo.png',\n",
              " 'dA1kwqyPaGEErN3j.png',\n",
              " 'abNcCRBP8z4cNQco.png',\n",
              " 'xqCLaIfsVBFNf63M.png',\n",
              " '2affjOmZChc9AXpR.png',\n",
              " 'i5FY2iOcMjYyop5u.png',\n",
              " 'OCVnkabSoNdmkHiU.png',\n",
              " 'j31qLVBZfstRnWsA.png',\n",
              " 'HHXLX66BbEVNYl6W.png',\n",
              " 'Lz2cVZ7LSaoXHcgr.png',\n",
              " '0NDYNEoDui7o64gU.png',\n",
              " 'lfR51TrQjuKJXkT6.png',\n",
              " 'Hz5ynYPew6XqaLdO.png',\n",
              " 'lw3m9jLBwagsVLJs.png',\n",
              " 'i85n2S7UREOq5svM.png',\n",
              " '6sInddznuGf5KuRo.png',\n",
              " 'xBWG6t5EvReNN7mW.png',\n",
              " 'xczZynV4iyBbLHvt.png',\n",
              " 'BvjXvNTvapIFq4bK.png',\n",
              " 'gaackCmGss3Lt4tj.png',\n",
              " '1UucZqS3qblvU0cH.png',\n",
              " 'HY0UHs2e3ydpvynQ.png',\n",
              " 'bqpOIN5gUl0r6vIS.png',\n",
              " 'pmukoZQITHhWvDDb.png',\n",
              " 'izGsLJJdOIpr54aV.png',\n",
              " 'oHI3A0mSiVVJTSo6.png',\n",
              " 'wZikdISRLJlJwp9q.png',\n",
              " 'U4HuPlTKsnXYExzJ.png',\n",
              " 'iVsm6EbRk1J1cEGN.png',\n",
              " 'DJUhF4lvtGZoaatl.png',\n",
              " 'Xq3zZyHBFpklvwb6.png',\n",
              " '1mnAKQCHEDbtjPX2.png',\n",
              " 'JmcPS1QNxo3NDlk0.png',\n",
              " 'W502bu3C93KtmDol.png',\n",
              " 'rU6kbTLXKpV6ei8K.png',\n",
              " '51TTZXCnAuk3Ck6s.png',\n",
              " 'GP5y9O5zbmzBGtzr.png',\n",
              " 'pI8SGhRU1bmqZAcM.png',\n",
              " 'MKU8h3j49NjuhQpi.png',\n",
              " 'lN7rUXL8DBzW1KoR.png',\n",
              " 'eTo9zgxdhJJAvrfM.png',\n",
              " 'pBRSGgUENwGb83VQ.png',\n",
              " 'Mhco9qeEh5TV83cQ.png',\n",
              " 'NQxWkhRHMkt2GrpB.png',\n",
              " 'bu8W5hPRULeRi0Kr.png',\n",
              " '5Zca8AdXnpDvoz18.png',\n",
              " '2vwLOZSd8FCXbuck.png',\n",
              " 'ad5rtBQRrXNma3u9.png',\n",
              " 'qiysAN26ClLYOZfG.png',\n",
              " 'FbQKEoixvDyDPu0c.png',\n",
              " '2DdERUV7Te8ivywq.png',\n",
              " 'yoses2FRtQruYUYE.png',\n",
              " 'Tp8sMtigMXoyabfq.png',\n",
              " '6NSGRQDw4M2amVcH.png',\n",
              " 'FopS2RV432i19UVz.png',\n",
              " 'Kp9F0tIiHIT310h6.png',\n",
              " 'sDLQgvDkWYW8qa8b.png',\n",
              " 'DVPUHpNyCvJxx69v.png',\n",
              " 'srlcv9vYJ9c9OUsC.png',\n",
              " 'EPFt6X0fS9c97Y5y.png',\n",
              " 'dnss2tOuxRmL0ZjZ.png',\n",
              " 'N235Vnlue0M9SwaK.png',\n",
              " '8zsAtTLXniXCu2Jx.png',\n",
              " 'weNeUSDwclSyOtnW.png',\n",
              " 'I8DyB4yRN0Q8voWp.png',\n",
              " '4iN0sQcmcukBN652.png',\n",
              " '1e1VCnCEApnFh9Oo.png',\n",
              " 'EvCwicQf5dVFto6x.png',\n",
              " 'fiivFS9iUjynQIB5.png',\n",
              " '5qDxuZZrlJjTW8ld.png',\n",
              " '2NmrcDGkc7FQuu12.png',\n",
              " 'UXc8KgQBF2jXEa9j.png',\n",
              " 'bsj2s38rcZvedHSI.png',\n",
              " 'Z1iNm9ej2ER2TGtC.png',\n",
              " 'bvMd98SEEKS3YxmD.png',\n",
              " 'TLbqMqwDrww8CS0p.png',\n",
              " 'pYbu2Q82tjh9AGkt.png',\n",
              " 'X4UIuiTnzUP68r86.png',\n",
              " 'UCZq5Q5ovMiGJLwX.png',\n",
              " 'f2pYnAURozqBDJDy.png',\n",
              " '5uXiqEc4q2Vi0NCX.png',\n",
              " 'bX0QhJtFkkDn1bEw.png',\n",
              " 'kfz2fRvWcTqPzQxn.png',\n",
              " 'QPdZme1zmTH0NIlM.png',\n",
              " 'GksMLm2b4t6sUYzY.png',\n",
              " '5sdSnAPfphSzXjWu.png',\n",
              " 'k3AidZ3WX8t14gcJ.png',\n",
              " 'vxMVVVspXFiLAJc4.png',\n",
              " 'gIuYTYdTVKnNAc5m.png',\n",
              " '4VYEe9NSyMlJmXUx.png',\n",
              " 'BnnRzew7yA30gyts.png',\n",
              " 'jJVH6kP3VRPHbWvs.png',\n",
              " 'p68vc2nK8JZRDmBx.png',\n",
              " 'lpmH56YGWEHsmhBi.png',\n",
              " 'nsnqe5yD6JgUs9Bx.png',\n",
              " 'm0xWKKlJMcCcQagG.png',\n",
              " 'yeinQlqGeaqSgvoN.png',\n",
              " '6ZWuYAkiYnDTDa2N.png',\n",
              " 'os5rNj49BIDCwHLD.png',\n",
              " 'Wq3GbJvvJWcF9OoW.png',\n",
              " 'eGm3dLnWBxRrjlJX.png',\n",
              " 'cJOgpmKKBSPdPSeD.png',\n",
              " 'p8g7qteM8iFK1Mdp.png',\n",
              " 'Wn0jBu6LOl5Ei5GN.png',\n",
              " 'l6tos9roQ0hnCmfj.png',\n",
              " 'WTNxLmYXbSvxjksk.png',\n",
              " 'BSMMOAJotDbg08rj.png',\n",
              " 'oIoIl8ZLod1q9i1s.png',\n",
              " 'ikusbrqDgla4SEas.png',\n",
              " 'C5KTDubAmdwtcK6u.png',\n",
              " 'MhOAtto6kcc8xsKr.png',\n",
              " '7gcPqW9meL8zJHFF.png',\n",
              " 'MJkLyjWTzbjL8qyk.png',\n",
              " 'ZVYkpv1wvpH7lSDu.png',\n",
              " 'SE5eUJl8euX8gTJ3.png',\n",
              " 'xy6EzMBW1U0aWDhr.png',\n",
              " 'NlFsco3hpee3X0wS.png',\n",
              " 'cfFHU3Y39yeofrTg.png',\n",
              " 'R5nXVOQnotizkrJB.png',\n",
              " '8pAWVg9BVmtha8LM.png',\n",
              " 'f48wzqwquNrvjICP.png',\n",
              " 'ODhkT6k9Xdoj9xG7.png',\n",
              " 'lXb5SpRU737FgSN8.png',\n",
              " 'sY2021zJacpvGLBT.png',\n",
              " 'y7JyZqsFZUwdvkY2.png',\n",
              " 'lh18XOTNn8Tr3ijU.png',\n",
              " 'OTf1IyhsDRDSoYTw.png',\n",
              " '9OOydp53FQwUHu3u.png',\n",
              " 'bsXoToIcgrXUypd0.png',\n",
              " 'o3gQiGh46MjCJtVK.png',\n",
              " 'mu2i6dWPZNLGnnPy.png',\n",
              " 'JslFc8olsoXrWyG0.png',\n",
              " '4ZVOE4DxJDxaysrR.png',\n",
              " '9ElQEC0AP2RtKdOo.png',\n",
              " 'FYSbYWccrDFMHVee.png',\n",
              " 'oky5NsS9ymRXKVf8.png',\n",
              " 'Jgjf4Q4LunuuLJKq.png',\n",
              " 'Bv1IS98JTiuZC7Bs.png',\n",
              " 'IoVOalbQe90ghv9U.png',\n",
              " 'L1nqVqYSFwToHPKG.png',\n",
              " 'dLacOlQK2ZsURwOa.png',\n",
              " '8CjXmw1rSkNLaj6p.png',\n",
              " 'H2lQHx5y3oy8mLSL.png',\n",
              " 'Wy9ESbYGxHgmqy9H.png',\n",
              " 'iaEybTdfnL0RoU9I.png',\n",
              " '8HKeT2oFz3gPSW0p.png',\n",
              " 'u3nAxX6ZNsAKQ7WC.png',\n",
              " '6ZuyUqrA3gcHdfCe.png',\n",
              " 'iCR447ESdUXjdOFz.png',\n",
              " 'd5fTHW3xnYsDhax5.png',\n",
              " 'nQ7DM3VMBj0NdM0u.png',\n",
              " 'gutk3kRhu9AfjYWQ.png',\n",
              " 'B4x3aTJOO6e3BIIX.png',\n",
              " 'koWcxNMbMRN8TxnP.png',\n",
              " 'DqakRofDCq0ryI49.png',\n",
              " 'KQqIoVT62pLqhEGR.png',\n",
              " 'GRUlZRON6TdcmAOe.png',\n",
              " 'kdSoBBdU2T0eoWR2.png',\n",
              " 's3NrOMdLJLZbpSdU.png',\n",
              " 'yC1FoVJ7cUxIEfBc.png',\n",
              " '8xToYACSoKU0swum.png',\n",
              " 'nY37eRslka1ss2bZ.png',\n",
              " '94oKRQFyit6SANlq.png',\n",
              " 'yF6HU2xSYYVTtH91.png',\n",
              " 'NSlKVMz6GymflBze.png',\n",
              " 'aa9v011U1AB9hK5v.png',\n",
              " 'I9Ej8xGU5ivG8R2F.png',\n",
              " 'put6WFBHh6qImxCG.png',\n",
              " 'whv9ZooPZNEjStCk.png',\n",
              " 'nrJIuJU8hyHoYzy5.png',\n",
              " 'EPqSt5HeGNMhPaeR.png',\n",
              " 'Lasz75PzyTyufo0u.png',\n",
              " 'RpCSMPJ0LhFPYksZ.png',\n",
              " 'DHqDt7x3dw4jZmp9.png',\n",
              " 'oqHaBv13VeSkB6Wy.png',\n",
              " 'eJ5fbY23rZWUULxO.png',\n",
              " 'nu556y52qDHFKRYy.png',\n",
              " 'c1rdxANL8E7yG3ZI.png',\n",
              " 'aEjSJwrTtf651GLm.png',\n",
              " 'MW1oWcAD7q1t0Ie6.png',\n",
              " 'sCkuAnI0vDucXt7m.png',\n",
              " 'nkwwKfU69znG7Bi3.png',\n",
              " '0OEXfEooCXlljaEl.png',\n",
              " '91nHRDpe6EROWOyY.png',\n",
              " 'rgLz5OE0s6JRcfiu.png',\n",
              " 'nW7S3LYj4C49mX06.png',\n",
              " 'IY007WkIgMgYMJRj.png',\n",
              " 'o2a42Or5QnATFbf7.png',\n",
              " 'xH9uXlr7ev4rhwf2.png',\n",
              " 'nmxmRD1050oGpGEa.png',\n",
              " 'oO3NO14nRLCUNjuZ.png',\n",
              " '7NqXwATGidLt6kZY.png',\n",
              " 'W7LNJeGLwxY8gzGf.png',\n",
              " 'Qm3EaazkLKL9qJJz.png',\n",
              " 'Q2rRUGWBDy47XucJ.png',\n",
              " 'TgCDIOp6r8sKduvT.png',\n",
              " 'IumhcLm1sbOr4pXt.png',\n",
              " 'ncO6qnqxGiA1sJrP.png',\n",
              " 'LSpFmcm9V8jmdhR3.png',\n",
              " 'eHSa1nP8bmRToqyG.png',\n",
              " 'Gq8pcFEIriCTMoBY.png',\n",
              " 'jKWUHfF0b4BzWBEk.png',\n",
              " 'DFi1cIxsQrXxIoWn.png',\n",
              " 'ULTg1DfgsXpxo2lJ.png',\n",
              " 'JspEtoXj1u5CjLmG.png',\n",
              " '84UHPxArtBOr8GF2.png',\n",
              " 'LlDkBm3uklZkHrB0.png',\n",
              " 'lFRtpAScOeikVDZB.png',\n",
              " 'iILNKQp2qExtn6JV.png',\n",
              " 'aWvWsXj1NL19dskm.png',\n",
              " 'oGRxysPJ1UwCl0Oh.png',\n",
              " 'LvqSpAbFMyQ1H0Ms.png',\n",
              " 'qrKttJhRuVwzKsQM.png',\n",
              " 'm7OF0PiEJCUJyf6K.png',\n",
              " 'oYZ5GJcd60BPi0BI.png',\n",
              " 'mJ0RjteYaLfYLE9P.png',\n",
              " 'M5FhZFlXsmRMTHkc.png',\n",
              " 'gjdBDXv7avQwgTr3.png',\n",
              " 'PxixapAFqLmRaP6k.png',\n",
              " '6HFAfRozG6L6n9fl.png',\n",
              " 'brzyLjsQoGb8cmBe.png',\n",
              " 'n61z73RnZB19Bpq8.png',\n",
              " 'Iyr7ONoegMltn92L.png',\n",
              " 'vXU1VEpTIJDKa6kg.png',\n",
              " 'N5RzLbTF6dlVDkbx.png',\n",
              " 'D7Ykcj1tYAannu8h.png',\n",
              " 'fl3m2aXD9qq7un0x.png',\n",
              " 'JIdgNYR5ymqv8uxv.png',\n",
              " 'SNEJ1wGU1s9Dm3I1.png',\n",
              " '5nKDkVzIMQWmtReM.png',\n",
              " 'ELmZ4ELVncvjq7J6.png',\n",
              " 'rZ3CYuMZgTELnLxc.png',\n",
              " 'zp7Okc8j1CJgB8ji.png',\n",
              " 'MwjRfqp6Gnh4vHI8.png',\n",
              " 'XFCJ1H5zoEXgE5CX.png',\n",
              " 'evxvBwQgL8Kvv67C.png',\n",
              " '7O4sybfz26sg4yrF.png',\n",
              " 'wzcE5Sx0VwqjWQhs.png',\n",
              " 'kS7mPmAkxkSxs1WR.png',\n",
              " 'wnFnnnpg4cx8NeoO.png',\n",
              " '0bioBZYFCXqJIulm.png',\n",
              " '7Dh4gBDJVdP9tTLr.png',\n",
              " 'Aa9hY8wo2ixaUNKH.png',\n",
              " 'yJeAgusgncrC0SBZ.png',\n",
              " 'X9KQv42y96rD2TO9.png',\n",
              " 'v7SoU8w2zc8vc7PI.png',\n",
              " '2Pt5UNQkMzXLtbEp.png',\n",
              " 'NuJjhPSItSWUuMOk.png',\n",
              " 'Jr45GnbiZqBa7TLX.png',\n",
              " '8pxbBnbfqzX3ijVM.png',\n",
              " 'rtyjzSfCZlfTPTox.png',\n",
              " 'bdO9pxWWsTRxmT2z.png',\n",
              " '5EEdNZWT8M9PThPB.png',\n",
              " '82wZr9Bpl9vfsoG1.png',\n",
              " 'HWvrWXLQywNe1aCF.png',\n",
              " 'g04l14MAwqQthuWW.png',\n",
              " 'iIaYawwgu5W18LS9.png',\n",
              " 'UMhiPBxOmfSpItMU.png',\n",
              " 'FVTXzNJQnU231QXO.png',\n",
              " 'JMkBm2iBy4VxFChU.png',\n",
              " 'HnWLgtGVbnoPAaMK.png',\n",
              " '96Sw16ZnG0zF8Qo0.png',\n",
              " 'gaZKijiVXyjhSLYp.png',\n",
              " '2HSPQEteONUjEXAF.png',\n",
              " 'esqqaIq6wKOr8EK6.png',\n",
              " 'z8U1YdLOa1FwflzO.png',\n",
              " 'XRnYppsMGdfUa5mZ.png',\n",
              " '7cNxwgrraQGeA1LA.png',\n",
              " 'iupz1I8ISgp6PDj7.png',\n",
              " 'z2NDPC5oc02bXnnK.png',\n",
              " 'FqRqtazi3LD2vwsr.png',\n",
              " '2EAkMCm7ZLnNoBQ7.png',\n",
              " 'y6SQqRL9aPExUa7f.png',\n",
              " 'EnikAJKQGkMfX5ax.png',\n",
              " 'zM2n6u50gHzL1i6i.png',\n",
              " '6QrCGRwuFLPn0VIH.png',\n",
              " 'Mi2FjtLVdVgcJHxP.png',\n",
              " 'V3wtZLDoj8UyjEh4.png',\n",
              " 'SlAF95clUBus3B4a.png',\n",
              " 'PP5HF3TrSg1DzqjX.png',\n",
              " '19H63c0MWD56EWNq.png',\n",
              " 'EfKcpzUsdKq9J3VN.png',\n",
              " 'nx0qhNSB7YMLfe2E.png',\n",
              " 'bC8Fki1Na2rRSlBG.png',\n",
              " 'h89sRVkct1nAdPfo.png',\n",
              " '4UMcbmjgoJ8vsU3G.png',\n",
              " '4RyeZiScDO5Z45oG.png',\n",
              " '1DxbXT3M2qiMjCmC.png',\n",
              " 'ReFXAsLF8NkgNAL4.png',\n",
              " 'qsa5Kd0lZctgmHvM.png',\n",
              " 'nGW6IQjCFT5tCw6j.png',\n",
              " '00nKV8oHuTGi20gq.png',\n",
              " '2MKZD0VUw7Tez2Jx.png',\n",
              " 'LzPap5344J7kKj2P.png',\n",
              " 'Z2rJQc2FfElAoITB.png',\n",
              " 'PqlEUvTdVyPPQUUI.png',\n",
              " 'GgPhnXFElpasCa0C.png',\n",
              " 'nKBG8QSEBTwgkoVp.png',\n",
              " 'AuO0jNEKCbMzb7Xf.png',\n",
              " 'F9aco7lZecystG3Z.png',\n",
              " 'IR0TvCNLcK7IrE1a.png',\n",
              " 'XmtW0hEB1JqbZ3eu.png',\n",
              " 'oJgp2GfiHRHchjDv.png',\n",
              " 'hNKauGm372Z48JWy.png',\n",
              " 'DBvjNfYD7dv2f3gw.png',\n",
              " 'v9fNaoRtExGYVHgL.png',\n",
              " 'tZFZV6hmUogDBeMl.png',\n",
              " 'DNnBWydGbZkwxkWz.png',\n",
              " 'WB7EanJC16YLgogF.png',\n",
              " 'oYofHCDonUnJKd0C.png',\n",
              " 'KC8RPAtZSyUL0vaR.png',\n",
              " 'C82Z7IFPlfaDFF71.png',\n",
              " 'ZPRYcDY3SAyZigkB.png',\n",
              " '86KzO2PHymh6qYQ4.png',\n",
              " 'iTEpNyc8wQiAbm0I.png',\n",
              " '2uxDLQKemRqulhIx.png',\n",
              " 'BYoDUgGsCMmAIF9I.png',\n",
              " 'EcChvTuoNsCzjFUQ.png',\n",
              " '9STiLxSOXvh5kjda.png',\n",
              " 'eb93o1ZDeBlrdfyc.png',\n",
              " '5dxMkdp9L1r6Dv8X.png',\n",
              " 'k6r5z3dMsqo2H6hk.png',\n",
              " 'AydtaubqlFzR1W5x.png',\n",
              " 'qnvJFE0EKgfw4xr8.png',\n",
              " 'hfvXIbr96w55MAIz.png',\n",
              " 'H4DhPewFGkdWrc4A.png',\n",
              " 'XdWXMPZZwwXhwYGI.png',\n",
              " 'aM5kGWsMPDGNdc3J.png',\n",
              " 'cy37is7PNfZQJ6SU.png',\n",
              " 'qGG51BxEClmts5xA.png',\n",
              " 'AiAPUXqX24FjC0mU.png',\n",
              " 'g9lqYZfHWUb3cm08.png',\n",
              " 'J5ZDRE5Cp9jyHs7s.png',\n",
              " 'smfqjL7LuLnrPqo1.png',\n",
              " 'IQNb5XBjdbYa7A2W.png',\n",
              " '1COBZEE1ALiJIivQ.png',\n",
              " 'bn4i63wrObqbJECw.png',\n",
              " 'GUpnzDfAkw6bmia1.png',\n",
              " '7xXAch1NxPhoEdk4.png',\n",
              " '2UaJz6Z3xJv3WX9h.png',\n",
              " '2uVMdMj10yjpR6Py.png',\n",
              " 'Xshr8uYgfxIuHXyO.png',\n",
              " 'fK7m8vZQS1RUHcMr.png',\n",
              " 'BOswKcczxw8dC4kY.png',\n",
              " 'EwKdZirU6MwYRV13.png',\n",
              " 'uCt8rigwmrP07ZVr.png',\n",
              " '43pApTDJOff5Fy62.png',\n",
              " 'zdNuxse3BvJK3s6Q.png',\n",
              " 'A2j94231CiW6OKA0.png',\n",
              " 'x4KH7n6QA6CV8In4.png',\n",
              " 'hfNIdhXfFcNcv37n.png',\n",
              " 'H5UvLsMVpHQH2q0i.png',\n",
              " 'UCkxupMKtpEo5qdk.png',\n",
              " 'H3USQGpRNkk6KyXa.png',\n",
              " 'YllhyQANozETi3MM.png',\n",
              " 'l0XeoPGwezMDYujz.png',\n",
              " 'iQ8Ef3yZ12whKccA.png',\n",
              " 'yhdKczrnPdXbTjZc.png',\n",
              " 'zZRojXITRo7bAIRT.png',\n",
              " 'RYxKlMYeLJcQ63zQ.png',\n",
              " 'clIAiFiURAZ36c8y.png',\n",
              " 'OQpJdqlKKADyIvtb.png',\n",
              " '5cJA6BncdVbygRNL.png',\n",
              " 'PZqNg7IprOGg561e.png',\n",
              " 'gRiBjZUJv5LqQXYZ.png',\n",
              " 'QKlibCXvATAv2H4i.png',\n",
              " 'rLOijBMEYIaQOL2x.png',\n",
              " 'PgQOJNqwh3jq6vCr.png',\n",
              " 'Ym1qa4AJM9udyyyL.png',\n",
              " '6TC3PefZj9PxEdqz.png',\n",
              " '7wFK6yhjKaNkhwZs.png',\n",
              " 'gN9QXTe8BSMMHyAn.png',\n",
              " 'vgu9DXAirSqwFhWr.png',\n",
              " 'S9iRciyZ0OktMu7s.png',\n",
              " 'O3ko4JxjCkdULELr.png',\n",
              " 'AzWs0iUTTu8bLtsw.png',\n",
              " 'V3UaCwHUgn07OTX7.png',\n",
              " '9JYn3D5vkXtrasPJ.png',\n",
              " 'tgpoZwVYq6VIfho8.png',\n",
              " 'H97IYAhAPk2kHnsI.png',\n",
              " 'mdHOkH88KHqpjkEM.png',\n",
              " 'EQDfrFWZluld6aKP.png',\n",
              " '5G0hCO6RJXNyxcgV.png',\n",
              " 'O5iExVmt45IRGquU.png',\n",
              " 'cY3jY96VetFq6Ayp.png',\n",
              " 'cx9zu6O87PURa2ve.png',\n",
              " 'yrzokMUYHlOLsRhQ.png',\n",
              " 'mN2Tm82UB8XH1eNs.png',\n",
              " 'IQZU5YimtmEB2sSk.png',\n",
              " '6AcmgOHcOvQfp1iW.png',\n",
              " '32PDtFdAkUiAJbmP.png',\n",
              " 'TIm7htC6BXzkOitR.png',\n",
              " 'how0vUOltuU1m495.png',\n",
              " 'PvAvhK0mbyEq1fcC.png',\n",
              " 'k24NaH1jhXog9y7y.png',\n",
              " 'DEX2gmMwS3fxdi23.png',\n",
              " '45lUkDFTSG9E7qOr.png',\n",
              " 'QSa6ILjZeRdKM5Fz.png',\n",
              " 'aZ8XOOHozlep9lS2.png',\n",
              " '3aRXheNUQ6cxechp.png',\n",
              " 'nS9fHg3r4luGv0mF.png',\n",
              " 'LCmGn9hnX6JQZ6lT.png',\n",
              " 'O5SEqKQq5Ui3pS57.png',\n",
              " 'tGBAO9oyBYRD7XXS.png',\n",
              " 'rULPfRAFnmSQtUhh.png',\n",
              " 'wI8gSJIe2tzwPSub.png',\n",
              " 'fQPCA8oYZ8ywDgyv.png',\n",
              " 'Yzx0RwB2AFNAvC6s.png',\n",
              " 'yt9k2pmBRzMEXoee.png',\n",
              " 'gPFCK0WnHem9uYEW.png',\n",
              " 'sq8ppoxKFLEiWc1N.png',\n",
              " '4QtEaLUAuzeJZKdK.png',\n",
              " 'Xt7qc6XbbZ4OcpW6.png',\n",
              " 'ZWrzVOGgkuKQRDnQ.png',\n",
              " 'U3EwYhdeoTjy3xBf.png',\n",
              " 'ALFXBdM6k9V1h3EH.png',\n",
              " 'yga4KN1EfpYG2u9w.png',\n",
              " 'UDjD30Rke7seRcaD.png',\n",
              " '6bGxG6c9DxmZBcIB.png',\n",
              " 'Yux1PtSfRvXafFLT.png',\n",
              " 'XNzFnFkneYMqJQOF.png',\n",
              " 'xMzUrLkx9vIWWwZU.png',\n",
              " '9txR3KPmEGdjo4A6.png',\n",
              " 'XQVw2vKQl0dywWDc.png',\n",
              " '1WuMUpzupKs67q29.png',\n",
              " 'foxUXc8WPRDAd6LM.png',\n",
              " '3Umm2S8TUyEpkbCY.png',\n",
              " 'UPZ5MJAl3AqoLrZV.png',\n",
              " 's89nGNUsKL1q4vtJ.png',\n",
              " 'hOgtdOKps4GHrC05.png',\n",
              " 'DxBmPozYTIgMWX7j.png',\n",
              " 'r87DASz5okmR0fnI.png',\n",
              " 'YsMoNGFWu7H9X7DM.png',\n",
              " 'pU5fol2HJ1fxobLd.png',\n",
              " 'AbZoX8Iv6xigsR42.png',\n",
              " 'GwUjjywvFAhLUYYm.png',\n",
              " 'MgF3uIzpCPWudb3N.png',\n",
              " 'RsBNa42PCliwNPQS.png',\n",
              " 'CKLOvn69epi2Qcxg.png',\n",
              " 'dwcRLIlsRlaRevNn.png',\n",
              " 'SDUe3SDAEKYJId8m.png',\n",
              " 'nLGBKJAhRNQqPFrT.png',\n",
              " 'XqR9QAFi9qQMUdw2.png',\n",
              " 'T0Ac7jx8YlCdhjXB.png',\n",
              " 'JqR15GsfOszxXGP2.png',\n",
              " 'Q7EjH9y5ipAktIG6.png',\n",
              " 'xDVakDa8abIKURzb.png',\n",
              " 'nrRw9O00nT1ZeOJh.png',\n",
              " 'qCzy78clSmCmt5Uv.png',\n",
              " 'QkABhOUYBbDXL7VF.png',\n",
              " 'gtVEm7JEdr0wE1ip.png',\n",
              " 'rzLjaOMLU7vbZnPH.png',\n",
              " 'GA6w6DqplIPDNDeO.png',\n",
              " 'F2MYeViv785ejIrb.png',\n",
              " 'lb0hZJ95AjtXzoHf.png',\n",
              " 'Tz2CIaI6bZXdon61.png',\n",
              " 'iEYJn6rg6FCcLqQv.png',\n",
              " 'nxmKEzuM4rL8EcIe.png',\n",
              " 'iDKbsfPFabN9bUKT.png',\n",
              " 'zkNTynOVx99Kr46m.png',\n",
              " 'PYmGQFC1zj7mP3vh.png',\n",
              " 'iwM1SIgty28sLu2p.png',\n",
              " 'iKI9Mw3KvEOuuj9o.png',\n",
              " 'BYG1hwCG8M64UXIV.png',\n",
              " 'lO2wvyJGrQBZvX9P.png',\n",
              " '9Ke26ZpKvhVSXl4V.png',\n",
              " 'MLmBabhqRs9Gxec0.png',\n",
              " 'hyWWmz1OwgoE5JlU.png',\n",
              " 'rzRKFMMFob6PQPxk.png',\n",
              " 'cfyxwMjZmO6RYzLq.png',\n",
              " 'QF1S0sqb6YGe4GNP.png',\n",
              " 'Vt8bxMbkU4svFwyN.png',\n",
              " 'fa3PZHjdAUZAob3q.png',\n",
              " '3sQLj3fYBZhheJ7K.png',\n",
              " '9Ylbn7DgtTyKKNuM.png',\n",
              " 'HiWw0r0djGMscUQD.png',\n",
              " 'IcqtnpGHgStAPMXM.png',\n",
              " '02vG75hQW9Vp4oTl.png',\n",
              " '8EjcPHxZBpTtX8bM.png',\n",
              " 'hAcc7l7XQ9EtxxfR.png',\n",
              " 'Dt2vWLtAYm3XeQpx.png',\n",
              " 'mwbC6miMP5CXTp3a.png',\n",
              " 'UElo8u1bUerF3JNe.png',\n",
              " 'E4kPnJ376NIwG4Mh.png',\n",
              " 'hTzQIKUtmllw7je8.png',\n",
              " 'rYuqHIlnoFtZQJGg.png',\n",
              " '9sJrWSSurvaNb8FW.png',\n",
              " 'f1yI657Ka9iHuVGB.png',\n",
              " 'FAXYcAg30rtQnofW.png',\n",
              " '6HsTnF20TAnDZiRT.png',\n",
              " 'CEyvCbffQZzgGEL4.png',\n",
              " 'xxUPxq2BY6NvCmP2.png',\n",
              " 'Shr7grl23ISlh4Yu.png',\n",
              " '3XNPuMFoaFCfRCVb.png',\n",
              " 'xn0aW7kbdkNaR2cj.png',\n",
              " 'nNB5f3VARZAaHI4U.png',\n",
              " '1wk2Hl1Ih9guOwx6.png',\n",
              " 'QSPgUc6QCA1kNLin.png',\n",
              " 'KtMqF92CMvQOIRrO.png',\n",
              " 'Gr80cGhz5I8abSjg.png',\n",
              " 'PDgemOaqWAiKPIcw.png',\n",
              " 'xhK87JYV3RYJYhA2.png',\n",
              " 'R0j5MW4t8SU59u7x.png',\n",
              " '1UXuUYJ4rVj2eSvt.png',\n",
              " 'bVzc0yl2Cm3xkOgB.png',\n",
              " 'y0ZTIzS3rpKagERb.png',\n",
              " 'RJSM8dpspJB6ckmX.png',\n",
              " 'UEdiy4khJQHK0ofn.png',\n",
              " 'cWKDIx5D1KB0zqjF.png',\n",
              " '8WivsxbidGW1wvnx.png',\n",
              " '3ONDEuB8iwAYO1Uz.png',\n",
              " 'Khsb4fYDiZjyXfBP.png',\n",
              " '1vvcitV1s17gKdbn.png',\n",
              " 'RyjWflLmOIWqcYXi.png',\n",
              " 'TI2gNkqMM5nOpoB0.png',\n",
              " 'ZeANrD34jghq5aPt.png',\n",
              " 'e6cXS0w2KOKKEYZU.png',\n",
              " 'BFVK8zqyFZ9SFqm4.png',\n",
              " 'IFr9SXl5OScOlvuk.png',\n",
              " '724DhutGELMHY1uD.png',\n",
              " 'uK8EXLN4mejf6aN0.png',\n",
              " 'ZUROGMkonFX6dWC9.png',\n",
              " 'fjPydEfNWCvgobYu.png',\n",
              " 'gc8jqxVapG2o8ol1.png',\n",
              " 'dZ6rscIYTbmlwVZE.png',\n",
              " 'Gyq9GJFTfF1vvOZ8.png',\n",
              " 'IRSnSZdAUmx8ZVkD.png',\n",
              " 'UJ1D4UeUI0pnDG5h.png',\n",
              " 'BMet9oI6hmx1zdc9.png',\n",
              " 'VnSCn5IIg7m8d9Os.png',\n",
              " 'N3pHY9fO1y0jdeVu.png',\n",
              " 'dLrum1jVnQix8sV5.png',\n",
              " 'ZWKMxS1Yoa5ZvkOz.png',\n",
              " 'fnIIkyRgH6znwmNp.png',\n",
              " 'yAKYvpfUMYbJhbDP.png',\n",
              " 'fGaDsQT8mUTaytaT.png',\n",
              " 'fLFzQoErbCBRR6NM.png',\n",
              " 'rBGSBjzYhvdPSDV0.png',\n",
              " '1BqjHe5igJAgUjiN.png',\n",
              " 'hi4vWQhDFKyTs4iJ.png',\n",
              " '01dM3ewPIsnBICu1.png',\n",
              " 'aFWGfqQgf0jt1h7g.png',\n",
              " 'UuozdYFAjozEdiMj.png',\n",
              " 'HxzCqTAGvmLYaHjA.png',\n",
              " 'qNLvry2jUcwSulgu.png',\n",
              " 'T6biQxOCDlM5ad7k.png',\n",
              " '7YpH9C6XA1GIbSum.png',\n",
              " 'SEKWYxTtThyvg3UX.png',\n",
              " 'udR0gHeGBkkQVGlr.png',\n",
              " 'p0v91qRDrCRa1qWZ.png',\n",
              " 'fMQzh7RRM5fbtBiC.png',\n",
              " 'WuAzBDRg8CTEJS9v.png',\n",
              " 'ON7ALRXFwvKHbBPL.png',\n",
              " 'jqMSEFiMhpIWzJfe.png',\n",
              " '9buKAwFejr8MhkAF.png',\n",
              " 'lZcZsaDTx2vWJFun.png',\n",
              " 'ZljuXHZdMhwFPe6H.png',\n",
              " 'kW4W7E0A1Wpo45eL.png',\n",
              " 'Mfz7ZRZdZeRxFYAf.png',\n",
              " 'F9QovHPXetKcOokD.png',\n",
              " 'goDBJj8kMSQbpQZT.png',\n",
              " 'KYa6DwgYNkoUZhMp.png',\n",
              " 'FFAcRoW2ejkNNheZ.png',\n",
              " 'y57pFGvddZimmNu8.png']"
            ]
          },
          "metadata": {
            "tags": []
          },
          "execution_count": 13
        }
      ]
    },
    {
      "cell_type": "code",
      "metadata": {
        "id": "q0x4eIQ5QxI4",
        "outputId": "5d19d2b4-8372-45fe-8959-a65355698ec1",
        "colab": {
          "base_uri": "https://localhost:8080/"
        }
      },
      "source": [
        "os.listdir('/tmp/rockpaperscissors/rps-cv-images')"
      ],
      "execution_count": 14,
      "outputs": [
        {
          "output_type": "execute_result",
          "data": {
            "text/plain": [
              "['scissors', 'rock', 'README_rpc-cv-images.txt', 'paper']"
            ]
          },
          "metadata": {
            "tags": []
          },
          "execution_count": 14
        }
      ]
    },
    {
      "cell_type": "code",
      "metadata": {
        "id": "CfS5Ud2SHFr4",
        "outputId": "79e189a2-cca4-4994-d278-0e6523284e37",
        "colab": {
          "base_uri": "https://localhost:8080/",
          "height": 286
        }
      },
      "source": [
        "# tes menampilkan gambar dengan merubah ke bentuk numpy\n",
        "\n",
        "folder_path = '/tmp/rockpaperscissors/rps-cv-images/rock'\n",
        "for filename in glob.glob(os.path.join(folder_path, '*.png')):\n",
        "  with open(filename, 'r') as f:\n",
        "    img = mpimg.imread(filename) \n",
        "    print(img.shape) # dimensi image \n",
        "# Output Images \n",
        "    plt.imshow(img)\n",
        "    break # tes 1 gambar aja"
      ],
      "execution_count": 15,
      "outputs": [
        {
          "output_type": "stream",
          "text": [
            "(200, 300, 3)\n"
          ],
          "name": "stdout"
        },
        {
          "output_type": "display_data",
          "data": {
            "image/png": "[encoded data removed]",
            "text/plain": [
              "<Figure size 432x288 with 1 Axes>"
            ]
          },
          "metadata": {
            "tags": [],
            "needs_background": "light"
          }
        }
      ]
    },
    {
      "cell_type": "code",
      "metadata": {
        "id": "3HL-iiHoecVy",
        "outputId": "61cbef2f-6bb9-471a-8546-b48463b3acb8",
        "colab": {
          "base_uri": "https://localhost:8080/"
        }
      },
      "source": [
        "# split train tes langsung menggunakan ImageDataGenator agar tidak perlu membuat folder sendiri\n",
        "\n",
        "data_path = '/tmp/rockpaperscissors/rps-cv-images'\n",
        "train_datagen = ImageDataGenerator(rescale=1./255,\n",
        "    shear_range=0.2,\n",
        "    zoom_range=0.2,\n",
        "    horizontal_flip=True,\n",
        "    vertical_flip=True,\n",
        "    rotation_range = 20,\n",
        "    validation_split=0.4) # set validation split 40%\n",
        "\n",
        "train_generator = train_datagen.flow_from_directory(\n",
        "    data_path,\n",
        "    target_size=(150, 150),\n",
        "    batch_size=32, # pake default\n",
        "    class_mode='categorical', # karena ada 3 class\n",
        "    subset='training') # set as training data\n",
        "\n",
        "validation_generator = train_datagen.flow_from_directory(\n",
        "    data_path, # same directory as training data\n",
        "    target_size=(150, 150),\n",
        "    batch_size=32,\n",
        "    class_mode='categorical', # karena ada 3 class\n",
        "    subset='validation') # set as validation data\n",
        "\n"
      ],
      "execution_count": 16,
      "outputs": [
        {
          "output_type": "stream",
          "text": [
            "Found 1314 images belonging to 3 classes.\n",
            "Found 874 images belonging to 3 classes.\n"
          ],
          "name": "stdout"
        }
      ]
    },
    {
      "cell_type": "markdown",
      "metadata": {
        "id": "h6IxeeXILnyc"
      },
      "source": [
        "> # <b> Design CNN Model </b>"
      ]
    },
    {
      "cell_type": "code",
      "metadata": {
        "id": "lkoVTq7tj_Kq",
        "outputId": "fe3aac31-e1d6-4abf-e56c-dc721103ef2c",
        "colab": {
          "base_uri": "https://localhost:8080/"
        }
      },
      "source": [
        "# Designing the layers\n",
        "model = tf.keras.models.Sequential([\n",
        "    tf.keras.layers.Conv2D(16, (4,4), activation = 'selu', input_shape= (150,150,3)),\n",
        "    tf.keras.layers.MaxPooling2D(2,2),\n",
        "    tf.keras.layers.Conv2D(32, (3,3), activation=  'relu'),\n",
        "    tf.keras.layers.MaxPooling2D(2,2),\n",
        "    tf.keras.layers.Conv2D(64, (3,3), activation = 'selu'),\n",
        "    tf.keras.layers.MaxPooling2D(2,2),\n",
        "    tf.keras.layers.Conv2D(128, (2,2), activation = 'relu'),\n",
        "    tf.keras.layers.MaxPooling2D(2,2),\n",
        "    tf.keras.layers.Conv2D(256, (2,2), activation = 'selu'),\n",
        "    tf.keras.layers.MaxPooling2D(2,2),\n",
        "    tf.keras.layers.Flatten(),\n",
        "    tf.keras.layers.Dense(512, activation = 'relu'),\n",
        "    tf.keras.layers.Dense(3, activation = 'softmax') # use softmax instead sigmoid, karena multiclass (3 class)\n",
        "])\n",
        "\n",
        "# Compile model dengan 'adam' dengan tuning hyperparameter\n",
        "model.compile(optimizer = tf.optimizers.Adam( learning_rate=0.001, beta_1=0.9, beta_2=0.999, epsilon=1e-08, amsgrad=True), \n",
        "                  loss = 'categorical_crossentropy', # pake categorical karana ada 3 class\n",
        "                  metrics = ['accuracy'])\n",
        "model.summary()"
      ],
      "execution_count": 17,
      "outputs": [
        {
          "output_type": "stream",
          "text": [
            "Model: \"sequential_2\"\n",
            "_________________________________________________________________\n",
            "Layer (type)                 Output Shape              Param #   \n",
            "=================================================================\n",
            "conv2d_10 (Conv2D)           (None, 147, 147, 16)      784       \n",
            "_________________________________________________________________\n",
            "max_pooling2d_10 (MaxPooling (None, 73, 73, 16)        0         \n",
            "_________________________________________________________________\n",
            "conv2d_11 (Conv2D)           (None, 71, 71, 32)        4640      \n",
            "_________________________________________________________________\n",
            "max_pooling2d_11 (MaxPooling (None, 35, 35, 32)        0         \n",
            "_________________________________________________________________\n",
            "conv2d_12 (Conv2D)           (None, 33, 33, 64)        18496     \n",
            "_________________________________________________________________\n",
            "max_pooling2d_12 (MaxPooling (None, 16, 16, 64)        0         \n",
            "_________________________________________________________________\n",
            "conv2d_13 (Conv2D)           (None, 15, 15, 128)       32896     \n",
            "_________________________________________________________________\n",
            "max_pooling2d_13 (MaxPooling (None, 7, 7, 128)         0         \n",
            "_________________________________________________________________\n",
            "conv2d_14 (Conv2D)           (None, 6, 6, 256)         131328    \n",
            "_________________________________________________________________\n",
            "max_pooling2d_14 (MaxPooling (None, 3, 3, 256)         0         \n",
            "_________________________________________________________________\n",
            "flatten_2 (Flatten)          (None, 2304)              0         \n",
            "_________________________________________________________________\n",
            "dense_4 (Dense)              (None, 512)               1180160   \n",
            "_________________________________________________________________\n",
            "dense_5 (Dense)              (None, 3)                 1539      \n",
            "=================================================================\n",
            "Total params: 1,369,843\n",
            "Trainable params: 1,369,843\n",
            "Non-trainable params: 0\n",
            "_________________________________________________________________\n"
          ],
          "name": "stdout"
        }
      ]
    },
    {
      "cell_type": "markdown",
      "metadata": {
        "id": "nCYhJci2L0Oq"
      },
      "source": [
        "> # <b>Membuat Callback Function</b>\n",
        "  - ReduceLROnPlateau\n",
        "  - ModelCheckpoint\n",
        "  - EarlyStopping"
      ]
    },
    {
      "cell_type": "code",
      "metadata": {
        "id": "3lsDetlvt70m"
      },
      "source": [
        "# Create Collback EarlyStopping, ModelCheckpoint, ReduceLROnPlateau\n",
        "\n",
        "filepath=\"/tmp/rockpaperscissors/checkpoint\"\n",
        "\n",
        "\n",
        "\n",
        "checkpoint = ModelCheckpoint(filepath,\n",
        "                             monitor='accuracy',\n",
        "                             mode='max',\n",
        "                             save_best_only=True,\n",
        "                             save_weights_only = True,\n",
        "                             verbose=1)\n",
        "\n",
        "\n",
        "EarlyStop = EarlyStopping(monitor = 'accuracy',\n",
        "                          min_delta = 0,\n",
        "                          patience = 3,\n",
        "                          verbose = 1,\n",
        "                          restore_best_weights = True)\n",
        "\n",
        "\n",
        "\n",
        "Reduce = ReduceLROnPlateau(monitor='accuracy', \n",
        "                           factor=0.999, \n",
        "                           patience=10, \n",
        "                           verbose=0, \n",
        "                           mode='max',\n",
        "                           min_delta=0.0001, \n",
        "                           cooldown=0, \n",
        "                           min_lr=0, \n",
        ")"
      ],
      "execution_count": 27,
      "outputs": []
    },
    {
      "cell_type": "markdown",
      "metadata": {
        "id": "u-pWseZOMFir"
      },
      "source": [
        "> # <b>Proses Training Model</b>"
      ]
    },
    {
      "cell_type": "code",
      "metadata": {
        "id": "qOpYTiWbIqOp",
        "outputId": "00b112e0-1ff6-49e6-8c59-62432c1554e4",
        "colab": {
          "base_uri": "https://localhost:8080/"
        }
      },
      "source": [
        "# Training Modelnya\n",
        "mulai = time.time()\n",
        "\n",
        "\n",
        "trained_model = model.fit(train_generator,\n",
        "                              steps_per_epoch = 25, \n",
        "                              epochs = 30, \n",
        "                              verbose = True, \n",
        "                              validation_data = validation_generator,\n",
        "                              callbacks = [checkpoint, EarlyStop, Reduce])\n",
        "\n",
        "# Calculating training time\n",
        "stop = time.time()\n",
        "menit = int(np.floor((stop-mulai)/60));\n",
        "detik = int(np.ceil((stop-mulai)-menit*60));\n",
        "print(f'waktu training = {menit} menit {detik} detik')"
      ],
      "execution_count": 28,
      "outputs": [
        {
          "output_type": "stream",
          "text": [
            "Epoch 1/30\n",
            "25/25 [==============================] - ETA: 0s - loss: 0.1721 - accuracy: 0.9450\n",
            "Epoch 00001: accuracy improved from -inf to 0.94500, saving model to /tmp/rockpaperscissors/checkpoint\n",
            "25/25 [==============================] - 10s 419ms/step - loss: 0.1721 - accuracy: 0.9450 - val_loss: 0.1815 - val_accuracy: 0.9497\n",
            "Epoch 2/30\n",
            "25/25 [==============================] - ETA: 0s - loss: 0.1178 - accuracy: 0.9571\n",
            "Epoch 00002: accuracy improved from 0.94500 to 0.95714, saving model to /tmp/rockpaperscissors/checkpoint\n",
            "25/25 [==============================] - 10s 409ms/step - loss: 0.1178 - accuracy: 0.9571 - val_loss: 0.1459 - val_accuracy: 0.9519\n",
            "Epoch 3/30\n",
            "25/25 [==============================] - ETA: 0s - loss: 0.1282 - accuracy: 0.9571\n",
            "Epoch 00003: accuracy did not improve from 0.95714\n",
            "25/25 [==============================] - 10s 411ms/step - loss: 0.1282 - accuracy: 0.9571 - val_loss: 0.2167 - val_accuracy: 0.9359\n",
            "Epoch 4/30\n",
            "25/25 [==============================] - ETA: 0s - loss: 0.0856 - accuracy: 0.9688\n",
            "Epoch 00004: accuracy improved from 0.95714 to 0.96883, saving model to /tmp/rockpaperscissors/checkpoint\n",
            "25/25 [==============================] - 10s 411ms/step - loss: 0.0856 - accuracy: 0.9688 - val_loss: 0.0715 - val_accuracy: 0.9783\n",
            "Epoch 5/30\n",
            "25/25 [==============================] - ETA: 0s - loss: 0.0627 - accuracy: 0.9825\n",
            "Epoch 00005: accuracy improved from 0.96883 to 0.98250, saving model to /tmp/rockpaperscissors/checkpoint\n",
            "25/25 [==============================] - 10s 411ms/step - loss: 0.0627 - accuracy: 0.9825 - val_loss: 0.0797 - val_accuracy: 0.9737\n",
            "Epoch 6/30\n",
            "25/25 [==============================] - ETA: 0s - loss: 0.0558 - accuracy: 0.9844\n",
            "Epoch 00006: accuracy improved from 0.98250 to 0.98442, saving model to /tmp/rockpaperscissors/checkpoint\n",
            "25/25 [==============================] - 10s 408ms/step - loss: 0.0558 - accuracy: 0.9844 - val_loss: 0.0463 - val_accuracy: 0.9840\n",
            "Epoch 7/30\n",
            "25/25 [==============================] - ETA: 0s - loss: 0.0481 - accuracy: 0.9875\n",
            "Epoch 00007: accuracy improved from 0.98442 to 0.98750, saving model to /tmp/rockpaperscissors/checkpoint\n",
            "25/25 [==============================] - 10s 415ms/step - loss: 0.0481 - accuracy: 0.9875 - val_loss: 0.1504 - val_accuracy: 0.9565\n",
            "Epoch 8/30\n",
            "25/25 [==============================] - ETA: 0s - loss: 0.0779 - accuracy: 0.9775\n",
            "Epoch 00008: accuracy did not improve from 0.98750\n",
            "25/25 [==============================] - 10s 418ms/step - loss: 0.0779 - accuracy: 0.9775 - val_loss: 0.0936 - val_accuracy: 0.9691\n",
            "Epoch 9/30\n",
            "25/25 [==============================] - ETA: 0s - loss: 0.0391 - accuracy: 0.9900\n",
            "Epoch 00009: accuracy improved from 0.98750 to 0.99000, saving model to /tmp/rockpaperscissors/checkpoint\n",
            "25/25 [==============================] - 10s 416ms/step - loss: 0.0391 - accuracy: 0.9900 - val_loss: 0.0432 - val_accuracy: 0.9817\n",
            "Epoch 10/30\n",
            "25/25 [==============================] - ETA: 0s - loss: 0.0616 - accuracy: 0.9831\n",
            "Epoch 00010: accuracy did not improve from 0.99000\n",
            "25/25 [==============================] - 10s 409ms/step - loss: 0.0616 - accuracy: 0.9831 - val_loss: 0.0509 - val_accuracy: 0.9828\n",
            "Epoch 11/30\n",
            "25/25 [==============================] - ETA: 0s - loss: 0.0910 - accuracy: 0.9688\n",
            "Epoch 00011: accuracy did not improve from 0.99000\n",
            "25/25 [==============================] - 10s 408ms/step - loss: 0.0910 - accuracy: 0.9688 - val_loss: 0.1441 - val_accuracy: 0.9519\n",
            "Epoch 12/30\n",
            "25/25 [==============================] - ETA: 0s - loss: 0.0688 - accuracy: 0.9805\n",
            "Epoch 00012: accuracy did not improve from 0.99000\n",
            "Restoring model weights from the end of the best epoch.\n",
            "25/25 [==============================] - 10s 406ms/step - loss: 0.0688 - accuracy: 0.9805 - val_loss: 0.0594 - val_accuracy: 0.9794\n",
            "Epoch 00012: early stopping\n",
            "waktu training = 2 menit 7 detik\n"
          ],
          "name": "stdout"
        }
      ]
    },
    {
      "cell_type": "markdown",
      "metadata": {
        "id": "Z_3D9QeVLc9p"
      },
      "source": [
        "> # <b>Reporting Hasil Training dan Visualisasi"
      ]
    },
    {
      "cell_type": "code",
      "metadata": {
        "id": "fGGL45HERTdg",
        "outputId": "e451bc02-775f-47b2-9d4f-98163f6688d0",
        "colab": {
          "base_uri": "https://localhost:8080/"
        }
      },
      "source": [
        "trained_model.history.keys()"
      ],
      "execution_count": 36,
      "outputs": [
        {
          "output_type": "execute_result",
          "data": {
            "text/plain": [
              "dict_keys(['loss', 'accuracy', 'val_loss', 'val_accuracy', 'lr'])"
            ]
          },
          "metadata": {
            "tags": []
          },
          "execution_count": 36
        }
      ]
    },
    {
      "cell_type": "code",
      "metadata": {
        "id": "nJ4KFUfSLlX1",
        "outputId": "91d1cff2-9a6d-49b4-8cc8-ebfa17c47630",
        "colab": {
          "base_uri": "https://localhost:8080/",
          "height": 300
        }
      },
      "source": [
        "plt.plot(trained_model.history['accuracy'],'red')\n",
        "plt.plot(trained_model.history['val_accuracy'],'blue')\n",
        "plt.yticks([0.9,0.92, 0.94, 0.96, 0.98, 1])\n",
        "plt.xlabel(\"Epochs\")\n",
        "plt.ylabel('Accuracy')"
      ],
      "execution_count": 46,
      "outputs": [
        {
          "output_type": "execute_result",
          "data": {
            "text/plain": [
              "Text(0, 0.5, 'Accuracy')"
            ]
          },
          "metadata": {
            "tags": []
          },
          "execution_count": 46
        },
        {
          "output_type": "display_data",
          "data": {
            "image/png": "[encoded data removed]",
            "text/plain": [
              "<Figure size 432x288 with 1 Axes>"
            ]
          },
          "metadata": {
            "tags": [],
            "needs_background": "light"
          }
        }
      ]
    },
    {
      "cell_type": "markdown",
      "metadata": {
        "id": "O1ocBByiUVQP"
      },
      "source": [
        "> Model terbaik berhenti pada Epoch 12, dengan :\n",
        "  - accuracy = 98,05 %\n",
        "  - val_accuracy = 97,94 %\n",
        "\n",
        "Dengan waktu training =  2 menit 7 detik"
      ]
    },
    {
      "cell_type": "markdown",
      "metadata": {
        "id": "lIdcTGjfMubk"
      },
      "source": [
        "> # <b>Testing\n"
      ]
    },
    {
      "cell_type": "code",
      "metadata": {
        "id": "3fgGq0rDMyfN",
        "outputId": "9ffa100a-cc23-42ad-d55d-8dee3a925e95",
        "colab": {
          "resources": {
            "http://localhost:8080/nbextensions/google.colab/files.js": {
              "data": "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",
              "ok": true,
              "headers": [
                [
                  "content-type",
                  "application/javascript"
                ]
              ],
              "status": 200,
              "status_text": ""
            }
          },
          "base_uri": "https://localhost:8080/",
          "height": 285
        }
      },
      "source": [
        "uploaded_image = files.upload()\n",
        "\n",
        "for file_name in uploaded_image.keys():\n",
        "    IMG_FILE = image.load_img(file_name, target_size = (150,150))\n",
        "    \n",
        "    fig = plt.figure(figsize = (3,3))\n",
        "    x = image.img_to_array(IMG_FILE)\n",
        "    x = np.expand_dims(x, axis = 0)\n",
        "\n",
        "    images = np.vstack([x])/255\n",
        "    classes = model.predict(images)\n",
        "\n",
        "    print(file_name)\n",
        "    if np.argmax(classes[0]) == 0:\n",
        "        label = \"PAPER\"\n",
        "    elif np.argmax(classes[0]) == 1:\n",
        "        label = \"ROCK\"\n",
        "    else:\n",
        "        label = \"SCISSOR\"\n",
        "\n",
        "    plt.imshow(IMG_FILE)\n",
        "    plt.xticks([])\n",
        "    plt.yticks([])\n",
        "    plt.xlabel(label, fontsize = 15)"
      ],
      "execution_count": 32,
      "outputs": [
        {
          "output_type": "display_data",
          "data": {
            "text/html": [
              "\n",
              "     <input type=\"file\" id=\"files-fefaefc2-3d07-4119-aef8-4b2ca1566e0d\" name=\"files[]\" multiple disabled\n",
              "        style=\"border:none\" />\n",
              "     <output id=\"result-fefaefc2-3d07-4119-aef8-4b2ca1566e0d\">\n",
              "      Upload widget is only available when the cell has been executed in the\n",
              "      current browser session. Please rerun this cell to enable.\n",
              "      </output>\n",
              "      <script src=\"/nbextensions/google.colab/files.js\"></script> "
            ],
            "text/plain": [
              "<IPython.core.display.HTML object>"
            ]
          },
          "metadata": {
            "tags": []
          }
        },
        {
          "output_type": "stream",
          "text": [
            "Saving paper_tes.png to paper_tes.png\n",
            "paper_tes.png\n"
          ],
          "name": "stdout"
        },
        {
          "output_type": "display_data",
          "data": {
            "image/png": "[encoded data removed]",
            "text/plain": [
              "<Figure size 216x216 with 1 Axes>"
            ]
          },
          "metadata": {
            "tags": []
          }
        }
      ]
    }
  ]
}